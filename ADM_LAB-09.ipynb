{
  "nbformat": 4,
  "nbformat_minor": 0,
  "metadata": {
    "colab": {
      "provenance": [],
      "authorship_tag": "ABX9TyM/Ncnth0LG4NBX6UPgW6G3",
      "include_colab_link": true
    },
    "kernelspec": {
      "name": "python3",
      "display_name": "Python 3"
    },
    "language_info": {
      "name": "python"
    }
  },
  "cells": [
    {
      "cell_type": "markdown",
      "metadata": {
        "id": "view-in-github",
        "colab_type": "text"
      },
      "source": [
        "<a href=\"https://colab.research.google.com/github/2303A51680/ADM-LAB-2025/blob/main/ADM_LAB-09.ipynb\" target=\"_parent\"><img src=\"https://colab.research.google.com/assets/colab-badge.svg\" alt=\"Open In Colab\"/></a>"
      ]
    },
    {
      "source": [
        "import numpy as np\n",
        "import pandas as pd\n",
        "import matplotlib.pyplot as plt\n",
        "from sklearn.model_selection import train_test_split\n",
        "from sklearn.linear_model import LinearRegression\n",
        "from sklearn.metrics import mean_squared_error,r2_score"
      ],
      "cell_type": "code",
      "metadata": {
        "id": "2Yp94TQEzz6O"
      },
      "execution_count": 20,
      "outputs": []
    },
    {
      "cell_type": "markdown",
      "source": [
        "sample dataset"
      ],
      "metadata": {
        "id": "uIwSZJXa16-4"
      }
    },
    {
      "cell_type": "code",
      "source": [
        "data={\n",
        "    'Feature1':[1,2,3,4,5,6,7,8,9,10],\n",
        "    'Feature2':[2,3,4,5,6,7,8,9,10,11],\n",
        "    'Feature3':[3,4,5,6,7,8,9,10,11,12],\n",
        "    'Target':[5,7,9,11,13,15,17,19,21,23]\n",
        "}\n"
      ],
      "metadata": {
        "id": "ckC0jpS71VeK"
      },
      "execution_count": 21,
      "outputs": []
    },
    {
      "cell_type": "markdown",
      "source": [
        "convent to DataFrame"
      ],
      "metadata": {
        "id": "MXtQw2co2hjk"
      }
    },
    {
      "cell_type": "code",
      "source": [
        "df=pd.DataFrame(data)"
      ],
      "metadata": {
        "id": "Ra1WbtYu4Dnb"
      },
      "execution_count": 22,
      "outputs": []
    },
    {
      "cell_type": "code",
      "source": [
        "#define independent (x) and dependent (y) varibles\n",
        "x=df[['Feature1','Feature2','Feature3']]\n",
        "y=df['Target']\n",
        "\n",
        "#split dataset into training and testing sets(80% train,20% test)\n",
        "x_train,x_test,y_train,y_test=train_test_split(x,y,test_size=0.2,random_state=42)\n",
        "\n",
        "#intitize and train the regression model\n",
        "model=LinearRegression()\n",
        "model.fit(x_train,y_train)\n",
        "\n",
        "#make predictions\n",
        "y_pred=model.predict(x_test)\n",
        "\n",
        "#print model coefficients and intercept\n",
        "print(f\"Coefficients:{model.coef_}\")\n",
        "print(f\"Intercept:{model.intercept_}\")\n",
        "\n",
        "#evaluate the model\n",
        "mse=mean_squared_error(y_test,y_pred)\n",
        "r2=r2_score(y_test,y_pred)\n",
        "\n",
        "print(f\"Mean Squared Error:{mse}\")\n",
        "print(f\"R-squared:{r2}\")\n"
      ],
      "metadata": {
        "colab": {
          "base_uri": "https://localhost:8080/"
        },
        "id": "t7h_jzFx4Seo",
        "outputId": "79b8524d-da05-44c1-f035-79f51d675b66"
      },
      "execution_count": 26,
      "outputs": [
        {
          "output_type": "stream",
          "name": "stdout",
          "text": [
            "Coefficients:[0.66666667 0.66666667 0.66666667]\n",
            "Intercept:0.9999999999999982\n",
            "Mean Squared Error:1.5777218104420236e-30\n",
            "R-squared:1.0\n"
          ]
        }
      ]
    }
  ]
}