{
  "nbformat": 4,
  "nbformat_minor": 0,
  "metadata": {
    "colab": {
      "provenance": [],
      "authorship_tag": "ABX9TyOapOKp1+eZcSfPyBnSQALz",
      "include_colab_link": true
    },
    "kernelspec": {
      "name": "python3",
      "display_name": "Python 3"
    },
    "language_info": {
      "name": "python"
    }
  },
  "cells": [
    {
      "cell_type": "markdown",
      "metadata": {
        "id": "view-in-github",
        "colab_type": "text"
      },
      "source": [
        "<a href=\"https://colab.research.google.com/github/2303A51680/ADM-LAB-2025/blob/main/ADM%20Lab_05.ipynb\" target=\"_parent\"><img src=\"https://colab.research.google.com/assets/colab-badge.svg\" alt=\"Open In Colab\"/></a>"
      ]
    },
    {
      "cell_type": "code",
      "source": [
        "import warnings\n",
        "warnings.filterwarnings('ignore', category=DeprecationWarning)"
      ],
      "metadata": {
        "id": "rIPwwa5vpbcs"
      },
      "execution_count": 13,
      "outputs": []
    },
    {
      "cell_type": "code",
      "source": [
        "import pandas as pd\n",
        "from mlxtend.frequent_patterns import apriori, association_rules\n",
        "from mlxtend.preprocessing import TransactionEncoder"
      ],
      "metadata": {
        "id": "Tw7A2kHUprBH"
      },
      "execution_count": 14,
      "outputs": []
    },
    {
      "cell_type": "code",
      "source": [
        "df = pd.read_csv(\"/content/Groceries_dataset (1).csv\")"
      ],
      "metadata": {
        "id": "g8bobVzxptUM"
      },
      "execution_count": 16,
      "outputs": []
    },
    {
      "cell_type": "code",
      "source": [
        "txns = df.groupby(['Member_number'])['itemDescription'].apply(list).tolist()"
      ],
      "metadata": {
        "id": "-mPbCai8p15o"
      },
      "execution_count": 17,
      "outputs": []
    },
    {
      "cell_type": "code",
      "source": [
        "te = TransactionEncoder()\n",
        "te_ary = te.fit(txns).transform(txns)\n",
        "df_encoded = pd.DataFrame(te_ary, columns=te.columns_)"
      ],
      "metadata": {
        "id": "fVpLiewZp5Np"
      },
      "execution_count": 18,
      "outputs": []
    },
    {
      "cell_type": "code",
      "source": [
        "min_support = 0.01  # Adjust as needed\n",
        "frequent_itemsets = apriori(df_encoded, min_support=min_support, use_colnames=True)\n",
        ""
      ],
      "metadata": {
        "id": "xoPb6jrup7HG"
      },
      "execution_count": 19,
      "outputs": []
    },
    {
      "cell_type": "code",
      "source": [
        "rules = association_rules(frequent_itemsets, metric=\"confidence\", min_threshold=0.2)\n",
        ""
      ],
      "metadata": {
        "id": "OlsPa9MGqAKb"
      },
      "execution_count": 20,
      "outputs": []
    },
    {
      "cell_type": "code",
      "source": [
        "print(\"Top Association Rules:\")\n",
        "print(rules.sort_values(by=\"lift\", ascending=False).head(10))"
      ],
      "metadata": {
        "colab": {
          "base_uri": "https://localhost:8080/"
        },
        "id": "QBf-50pNqExj",
        "outputId": "e6e91b31-336d-4535-9a0b-d561a0be3c77"
      },
      "execution_count": 21,
      "outputs": [
        {
          "output_type": "stream",
          "name": "stdout",
          "text": [
            "Top Association Rules:\n",
            "                                        antecedents  \\\n",
            "5815        (sausage, whole milk, other vegetables)   \n",
            "5819         (yogurt, other vegetables, rolls/buns)   \n",
            "4902                                 (yogurt, curd)   \n",
            "5817              (sausage, whole milk, rolls/buns)   \n",
            "5820               (yogurt, whole milk, rolls/buns)   \n",
            "2643                             (whole milk, meat)   \n",
            "5813        (sausage, other vegetables, rolls/buns)   \n",
            "5775                   (yogurt, whipped/sour cream)   \n",
            "5193                           (sausage, pip fruit)   \n",
            "5828  (shopping bags, whole milk, other vegetables)   \n",
            "\n",
            "                      consequents  antecedent support  consequent support  \\\n",
            "5815         (yogurt, rolls/buns)            0.050282            0.111339   \n",
            "5819        (sausage, whole milk)            0.052335            0.106978   \n",
            "4902        (sausage, whole milk)            0.040277            0.106978   \n",
            "5817   (yogurt, other vegetables)            0.048743            0.120318   \n",
            "5820  (sausage, other vegetables)            0.065931            0.092868   \n",
            "2643              (domestic eggs)            0.034890            0.133145   \n",
            "5813         (yogurt, whole milk)            0.041816            0.150590   \n",
            "5775        (sausage, whole milk)            0.047973            0.106978   \n",
            "5193   (yogurt, other vegetables)            0.042073            0.120318   \n",
            "5828         (yogurt, rolls/buns)            0.042842            0.111339   \n",
            "\n",
            "       support  confidence      lift  representativity  leverage  conviction  \\\n",
            "5815  0.013597    0.270408  2.428689               1.0  0.007998    1.218025   \n",
            "5819  0.013597    0.259804  2.428575               1.0  0.007998    1.206467   \n",
            "4902  0.010005    0.248408  2.322046               1.0  0.005696    1.188173   \n",
            "5817  0.013597    0.278947  2.318415               1.0  0.007732    1.219997   \n",
            "5820  0.013597    0.206226  2.220629               1.0  0.007474    1.142808   \n",
            "2643  0.010262    0.294118  2.208999               1.0  0.005616    1.228044   \n",
            "5813  0.013597    0.325153  2.159196               1.0  0.007300    1.258671   \n",
            "5775  0.011031    0.229947  2.149476               1.0  0.005899    1.159688   \n",
            "5193  0.010775    0.256098  2.128504               1.0  0.005713    1.182523   \n",
            "5828  0.010005    0.233533  2.097492               1.0  0.005235    1.159425   \n",
            "\n",
            "      zhangs_metric   jaccard  certainty  kulczynski  \n",
            "5815       0.619400  0.091854   0.178999    0.196264  \n",
            "5819       0.620721  0.093310   0.171133    0.193451  \n",
            "4902       0.593239  0.072897   0.158372    0.170966  \n",
            "5817       0.597810  0.087459   0.180326    0.195977  \n",
            "5820       0.588476  0.093640   0.124963    0.176317  \n",
            "2643       0.567092  0.065041   0.185697    0.185594  \n",
            "5813       0.560294  0.076040   0.205511    0.207721  \n",
            "5775       0.561718  0.076649   0.137699    0.166532  \n",
            "5193       0.553473  0.071066   0.154351    0.172825  \n",
            "5828       0.546660  0.069395   0.137503    0.161697  \n"
          ]
        }
      ]
    }
  ]
}